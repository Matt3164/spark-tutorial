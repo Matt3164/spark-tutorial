{
 "cells": [
  {
   "cell_type": "markdown",
   "metadata": {},
   "source": [
    "# Google Store Dataset\n",
    "\n",
    "If you want more infromation on the dataset, go https://www.kaggle.com/lava18/google-play-store-apps.\n",
    "\n",
    "Download link: https://drive.google.com/open?id=10eG4AcTBrAIeF8BC7SDOpvymRDruvUsu\n",
    "\n",
    "Mainly, this is some statistics on ratings and reviews of Google Store Applications.\n"
   ]
  },
  {
   "cell_type": "code",
   "execution_count": null,
   "metadata": {},
   "outputs": [],
   "source": [
    "df = sqlCtx.read.format(\"csv\").option(\"header\", \"true\").option(\"inferSchema\", \"true\").load(\"googleplaystore.csv\")"
   ]
  },
  {
   "cell_type": "markdown",
   "metadata": {},
   "source": [
    "# Category distribution\n",
    "\n",
    "How many apps by category?\n",
    "\n",
    "Hint: use the `groupBy` function on dataframe."
   ]
  },
  {
   "cell_type": "markdown",
   "metadata": {},
   "source": [
    "# Rating repartition\n",
    "\n",
    "Average rating?\n",
    "Histogram of ratings?\n",
    "\n",
    "Hint: use `.agg` on dataframe et `df.where`\n"
   ]
  },
  {
   "cell_type": "markdown",
   "metadata": {},
   "source": [
    "# Rating by category\n",
    "Average rating by category?"
   ]
  },
  {
   "cell_type": "markdown",
   "metadata": {},
   "source": [
    "# Downloads\n",
    "Histogram of number of downloads? By category?\n",
    "Is there a link between rating and download? which one?"
   ]
  },
  {
   "cell_type": "markdown",
   "metadata": {},
   "source": [
    "# Reviews"
   ]
  },
  {
   "cell_type": "code",
   "execution_count": null,
   "metadata": {},
   "outputs": [],
   "source": [
    "rvdf = sqlCtx.read.format(\"csv\").option(\"header\", \"true\").load(\"googleplaystore_user_reviews.csv\")\n",
    "rvdf.show()"
   ]
  },
  {
   "cell_type": "markdown",
   "metadata": {},
   "source": [
    "# Advanced\n",
    "Compute statistics by genre\n",
    "Can you predict rating based on these informations?\n",
    "[Optional] How can you use reviews to help this model?"
   ]
  }
 ],
 "metadata": {
  "kernelspec": {
   "display_name": "Python 3",
   "language": "python",
   "name": "python3"
  },
  "language_info": {
   "codemirror_mode": {
    "name": "ipython",
    "version": 3
   },
   "file_extension": ".py",
   "mimetype": "text/x-python",
   "name": "python",
   "nbconvert_exporter": "python",
   "pygments_lexer": "ipython3",
   "version": "3.6.4"
  }
 },
 "nbformat": 4,
 "nbformat_minor": 2
}
