{
 "cells": [
  {
   "cell_type": "markdown",
   "metadata": {},
   "source": [
    "# Spark tutorial"
   ]
  },
  {
   "cell_type": "markdown",
   "metadata": {},
   "source": [
    "For the linux guys, load ipython notebook with:\n",
    "\n",
    "```export PYSPARK_DRIVER_PYTHON=\"jupyter\"\n",
    "export PYSPARK_DRIVER_PYTHON_OPTS=\"notebook --pylab inline\"\n",
    "pyspark```"
   ]
  },
  {
   "cell_type": "markdown",
   "metadata": {},
   "source": [
    "Two important variables : contexts"
   ]
  },
  {
   "cell_type": "code",
   "execution_count": 1,
   "metadata": {},
   "outputs": [
    {
     "data": {
      "text/html": [
       "\n",
       "        <div>\n",
       "            <p><b>SparkContext</b></p>\n",
       "\n",
       "            <p><a href=\"http://10.162.0.2:4042\">Spark UI</a></p>\n",
       "\n",
       "            <dl>\n",
       "              <dt>Version</dt>\n",
       "                <dd><code>v2.2.0</code></dd>\n",
       "              <dt>Master</dt>\n",
       "                <dd><code>yarn</code></dd>\n",
       "              <dt>AppName</dt>\n",
       "                <dd><code>PySparkShell</code></dd>\n",
       "            </dl>\n",
       "        </div>\n",
       "        "
      ],
      "text/plain": [
       "<SparkContext master=yarn appName=PySparkShell>"
      ]
     },
     "execution_count": 1,
     "metadata": {},
     "output_type": "execute_result"
    }
   ],
   "source": [
    "sc"
   ]
  },
  {
   "cell_type": "code",
   "execution_count": 2,
   "metadata": {},
   "outputs": [
    {
     "data": {
      "text/plain": [
       "<pyspark.sql.context.SQLContext at 0x7fdf5d30a5d0>"
      ]
     },
     "execution_count": 2,
     "metadata": {},
     "output_type": "execute_result"
    }
   ],
   "source": [
    "sqlContext"
   ]
  },
  {
   "cell_type": "markdown",
   "metadata": {},
   "source": [
    "Ipython notebook supports some shell commands."
   ]
  },
  {
   "cell_type": "code",
   "execution_count": 3,
   "metadata": {},
   "outputs": [
    {
     "name": "stdout",
     "output_type": "stream",
     "text": [
      "mllib-tutorial.ipynb\t       Spark_correction_tutorial.ipynb\r\n",
      "mllib-tutorial-students.ipynb  Spark_tutorial_students.ipynb\r\n"
     ]
    }
   ],
   "source": [
    "!ls"
   ]
  },
  {
   "cell_type": "markdown",
   "metadata": {},
   "source": [
    "## Warm up with RDDs\n",
    "\n",
    "Let's compute [Pi](https://fr.wikipedia.org/wiki/Pi) using Monte Carlo Simulation.\n",
    "\n",
    "![alt text](http://www.physics.smu.edu/fattarus/pi.png \"Pi simulation\")"
   ]
  },
  {
   "cell_type": "code",
   "execution_count": 27,
   "metadata": {
    "collapsed": true
   },
   "outputs": [],
   "source": [
    "n_points = 1000\n",
    "\n",
    "points = sc.parallelize( range(n_points) )"
   ]
  },
  {
   "cell_type": "code",
   "execution_count": 29,
   "metadata": {
    "collapsed": true
   },
   "outputs": [],
   "source": [
    "from random import random\n",
    "\n",
    "def generate_random_pt(_):\n",
    "    x = random() * 2 - 1 # -> Rnd number between -1 and 1\n",
    "    y = random() * 2 - 1\n",
    "    return x, y\n",
    "\n",
    "def is_inside_unary_circle((x, y)):\n",
    "    return 1 if x ** 2 + y ** 2 <= 1 else 0\n",
    "\n",
    "points = points.map(generate_random_pt)\n",
    "\n",
    "inside_points = points.filter(lambda x: is_inside_unary_circle(x[0], x[1]))"
   ]
  },
  {
   "cell_type": "code",
   "execution_count": 16,
   "metadata": {},
   "outputs": [
    {
     "name": "stdout",
     "output_type": "stream",
     "text": [
      "Example point : (0.5878496590819144, 0.6292085841390693)\n"
     ]
    }
   ],
   "source": [
    "print(\"Example point : {}\".format(inside_points.first()))"
   ]
  },
  {
   "cell_type": "code",
   "execution_count": 34,
   "metadata": {},
   "outputs": [
    {
     "name": "stdout",
     "output_type": "stream",
     "text": [
      "Pi estimation is 3.1532\n"
     ]
    }
   ],
   "source": [
    "inside_area = inside_points.count()\n",
    "overall_area=4\n",
    "print( \"Pi estimation is {}\".format(overall_area*inside_area/float(n_points)) )"
   ]
  },
  {
   "cell_type": "code",
   "execution_count": 37,
   "metadata": {},
   "outputs": [
    {
     "name": "stdout",
     "output_type": "stream",
     "text": [
      "Pi estimation is 3.1816\n"
     ]
    }
   ],
   "source": [
    "n_points = 10000\n",
    "\n",
    "points = sc.parallelize( range(n_points) )\n",
    "\n",
    "points = points.map(generate_random_pt)\n",
    "\n",
    "inside_points = points.filter(lambda x: is_inside_unary_circle(x[0], x[1]))\n",
    "\n",
    "inside_area = inside_points.count()\n",
    "print( \"Pi estimation is {}\".format(overall_area*inside_area/float(n_points)) )"
   ]
  },
  {
   "cell_type": "markdown",
   "metadata": {},
   "source": [
    "## Basic arithmetic\n",
    "Basic operations on an RDD."
   ]
  },
  {
   "cell_type": "markdown",
   "metadata": {},
   "source": [
    "## Caching\n",
    "\n",
    "Interesting experiments\n",
    "\n",
    "* You can take advantage of common pipeline elements"
   ]
  },
  {
   "cell_type": "code",
   "execution_count": 38,
   "metadata": {},
   "outputs": [
    {
     "name": "stdout",
     "output_type": "stream",
     "text": [
      "['face', 'face', 'pile', 'pile', 'face', 'pile', 'pile', 'face', 'pile', 'face']\n"
     ]
    }
   ],
   "source": [
    "n_trials=100\n",
    "n_throws=10\n",
    "\n",
    "pil_data = sc.parallelize(range(n_trials))\n",
    "\n",
    "def generate_play():\n",
    "    return \"pile\" if random()>0.5 else \"face\"\n",
    "\n",
    "def generate_game(_):\n",
    "    return [generate_play() for _ in range(n_throws)]\n",
    "\n",
    "pil_data = pil_data.map(generate_game)\n",
    "\n",
    "print(pil_data.first())"
   ]
  },
  {
   "cell_type": "code",
   "execution_count": 41,
   "metadata": {},
   "outputs": [
    {
     "name": "stdout",
     "output_type": "stream",
     "text": [
      "[['face', 'face', 'pile', 'pile', 'face', 'pile', 'pile', 'face', 'pile', 'face'], ['face', 'pile', 'pile', 'face', 'pile', 'face', 'face', 'pile', 'pile', 'face']]\n"
     ]
    }
   ],
   "source": [
    "print(pil_data.take(2))"
   ]
  },
  {
   "cell_type": "code",
   "execution_count": 42,
   "metadata": {
    "collapsed": true
   },
   "outputs": [],
   "source": [
    "def firstg(games):\n",
    "    return games[0]\n",
    "\n",
    "def firstwog(games):\n",
    "    return games[:2]"
   ]
  },
  {
   "cell_type": "code",
   "execution_count": 43,
   "metadata": {},
   "outputs": [
    {
     "name": "stdout",
     "output_type": "stream",
     "text": [
      "CPU times: user 8 ms, sys: 0 ns, total: 8 ms\n",
      "Wall time: 56.9 ms\n"
     ]
    },
    {
     "data": {
      "text/plain": [
       "50"
      ]
     },
     "execution_count": 43,
     "metadata": {},
     "output_type": "execute_result"
    }
   ],
   "source": [
    "%%time\n",
    "pil_data.map(firstg).filter(lambda res: res==\"pile\").count()"
   ]
  },
  {
   "cell_type": "code",
   "execution_count": 44,
   "metadata": {},
   "outputs": [
    {
     "name": "stdout",
     "output_type": "stream",
     "text": [
      "CPU times: user 0 ns, sys: 8 ms, total: 8 ms\n",
      "Wall time: 77.7 ms\n"
     ]
    },
    {
     "data": {
      "text/plain": [
       "48"
      ]
     },
     "execution_count": 44,
     "metadata": {},
     "output_type": "execute_result"
    }
   ],
   "source": [
    "%%time\n",
    "pil_data.map(firstg).filter(lambda res: res==\"face\").count()"
   ]
  },
  {
   "cell_type": "code",
   "execution_count": 45,
   "metadata": {},
   "outputs": [
    {
     "name": "stdout",
     "output_type": "stream",
     "text": [
      "CPU times: user 12 ms, sys: 4 ms, total: 16 ms\n",
      "Wall time: 169 ms\n"
     ]
    }
   ],
   "source": [
    "%%time\n",
    "cached_rdd = pil_data.map(firstg).cache()\n",
    "cached_rdd.filter(lambda res: res==\"pile\").count()\n",
    "cached_rdd.filter(lambda res: res==\"face\").count()"
   ]
  },
  {
   "cell_type": "code",
   "execution_count": 48,
   "metadata": {
    "collapsed": true
   },
   "outputs": [],
   "source": [
    "from collections import Counter\n",
    "\n",
    "def count_res(games):\n",
    "    return Counter(games)\n",
    "\n",
    "def get_face_result(counts):\n",
    "    return counts[\"face\"]\n",
    "\n",
    "def get_pile_result(counts):\n",
    "    return counts[\"pile\"]"
   ]
  },
  {
   "cell_type": "code",
   "execution_count": 51,
   "metadata": {},
   "outputs": [
    {
     "name": "stdout",
     "output_type": "stream",
     "text": [
      "CPU times: user 8 ms, sys: 0 ns, total: 8 ms\n",
      "Wall time: 105 ms\n"
     ]
    },
    {
     "data": {
      "text/plain": [
       "8"
      ]
     },
     "execution_count": 51,
     "metadata": {},
     "output_type": "execute_result"
    }
   ],
   "source": [
    "%%time\n",
    "pil_data.map(count_res).filter(lambda res: get_pile_result(res)==2 ).count()"
   ]
  },
  {
   "cell_type": "code",
   "execution_count": 52,
   "metadata": {},
   "outputs": [
    {
     "name": "stdout",
     "output_type": "stream",
     "text": [
      "CPU times: user 8 ms, sys: 0 ns, total: 8 ms\n",
      "Wall time: 73.8 ms\n"
     ]
    },
    {
     "data": {
      "text/plain": [
       "0"
      ]
     },
     "execution_count": 52,
     "metadata": {},
     "output_type": "execute_result"
    }
   ],
   "source": [
    "%%time\n",
    "pil_data.map(count_res).filter(lambda res: get_face_result(res)==2 ).count()"
   ]
  },
  {
   "cell_type": "code",
   "execution_count": 53,
   "metadata": {},
   "outputs": [
    {
     "name": "stdout",
     "output_type": "stream",
     "text": [
      "CPU times: user 8 ms, sys: 4 ms, total: 12 ms\n",
      "Wall time: 153 ms\n"
     ]
    }
   ],
   "source": [
    "%%time\n",
    "cached_rdd = pil_data.map(count_res).cache()\n",
    "cached_rdd.filter(lambda res: get_pile_result(res)==2).count()\n",
    "cached_rdd.filter(lambda res: get_face_result(res)==2).count()"
   ]
  },
  {
   "cell_type": "markdown",
   "metadata": {},
   "source": [
    "Something interesting?...\n",
    "Try to increase the size of the RDD and see the computing time..."
   ]
  },
  {
   "cell_type": "markdown",
   "metadata": {},
   "source": [
    "#### Exercice\n",
    "\n",
    "* Count every occurences of the different possible tuples (pile, pile) (face, face) ... using a cache optimised process.\n",
    "* Count how many times \"pile\" was drawn? and \"face\"?"
   ]
  },
  {
   "cell_type": "markdown",
   "metadata": {},
   "source": [
    "### Exercice: KMeans"
   ]
  },
  {
   "cell_type": "markdown",
   "metadata": {},
   "source": [
    "Let's get to work ... Implement a k means algorithm on a dataset"
   ]
  },
  {
   "cell_type": "markdown",
   "metadata": {},
   "source": [
    "Extract some features to decrease computing time"
   ]
  },
  {
   "cell_type": "code",
   "execution_count": 56,
   "metadata": {
    "collapsed": true
   },
   "outputs": [],
   "source": [
    "from random import choice\n",
    "\n",
    "means = [0, 1, 5, -2]\n",
    "\n",
    "def generate_random_pt(_):\n",
    "    \n",
    "    mean = choice(means)\n",
    "    \n",
    "    return np.random.randn() + mean"
   ]
  },
  {
   "cell_type": "code",
   "execution_count": 57,
   "metadata": {
    "collapsed": true
   },
   "outputs": [],
   "source": [
    "n_points = 10000\n",
    "\n",
    "points = sc.parallelize( range(n_points) )\n",
    "\n",
    "points = points.map(generate_random_pt)"
   ]
  },
  {
   "cell_type": "code",
   "execution_count": 61,
   "metadata": {},
   "outputs": [
    {
     "data": {
      "text/plain": [
       "-0.3359149423833519"
      ]
     },
     "execution_count": 61,
     "metadata": {},
     "output_type": "execute_result"
    }
   ],
   "source": [
    "points.first()"
   ]
  },
  {
   "cell_type": "markdown",
   "metadata": {},
   "source": [
    "Useful function\n",
    "Find the closest center in a list of centers to the datapoint: datapoint -> index of the closest centroid"
   ]
  },
  {
   "cell_type": "code",
   "execution_count": 62,
   "metadata": {
    "collapsed": true
   },
   "outputs": [],
   "source": [
    "import numpy as np\n",
    "\n",
    "def closestTo(datapoint, centerList):\n",
    "    \n",
    "    # TODO: Compute distances to every center\n",
    "    # returns the index of the closest center\n",
    "    return np.argmin(distanceList)"
   ]
  },
  {
   "cell_type": "markdown",
   "metadata": {},
   "source": [
    "Random initialisation of the initial centroids"
   ]
  },
  {
   "cell_type": "code",
   "execution_count": 92,
   "metadata": {
    "collapsed": true
   },
   "outputs": [],
   "source": [
    "N = 10 # Number of centroids\n",
    "from numpy.random import rand\n",
    "centroidsList = []\n",
    "for indCentroid in range(N):\n",
    "    centroidsList.append(rand())"
   ]
  },
  {
   "cell_type": "code",
   "execution_count": 93,
   "metadata": {},
   "outputs": [
    {
     "data": {
      "text/plain": [
       "8"
      ]
     },
     "execution_count": 93,
     "metadata": {},
     "output_type": "execute_result"
    }
   ],
   "source": [
    "closestTo(random(), centroidsList)"
   ]
  },
  {
   "cell_type": "markdown",
   "metadata": {},
   "source": [
    "Simplest kMeans algorithm:\n",
    "* Compute centroids of each cluster\n",
    "* Update centroids\n",
    "* Repeat\n",
    "\n",
    "Explanations:\n",
    "* First transformation:\n",
    "    - Compute centroid for each datapoint\n",
    "    - datapoint -> Tuple ( closest centroid Index , ( datapoint, 1 ) )\n",
    "\n",
    "* Reduce By Key: Aggregate for each centroid\n",
    "    - centroid Index , ( sum of datapoints , number of datapoints )\n",
    "    - ( datapoint1, pop1 ) and ( datapoint2, pop2 ) => (datapoint1 + datapoint2 , pop1+pop2)\n",
    "\n",
    "* So that at the end, \n",
    "    - (cluster Index, (sum of datapoint in cluster , number of datapoints in cluster) )\n",
    "    - Can compute the centroid"
   ]
  },
  {
   "cell_type": "code",
   "execution_count": 103,
   "metadata": {
    "collapsed": true
   },
   "outputs": [],
   "source": [
    "for t in range(5):\n",
    "    \n",
    "    # Compute centroids of clusters    \n",
    "    \n",
    "    centroidRDD = points.map() # returns (closest_centroid_idx, (datapoint, 1))\n",
    "    \n",
    "    centroidStats = centroidRDD.reduceByKey().collect()\n",
    "    # returns (closest_centroid_idx, (sum_of_datapoint, number_of_datapoints))\n",
    "    \n",
    "    # Update centroids with new ones:\n",
    "    # New centroid = Mean of datapoints assigned to this centroid\n",
    "    \n",
    "    for stats in newCentroids:\n",
    "        centroidIndex = stats[0]\n",
    "        centroidDataSum = stats[1][0]\n",
    "        centroidDataCount = stats[1][1]\n",
    "        newCentroid = centroidDataSum / centroidDataCount\n",
    "\n",
    "        centroidsList[centroidIndex] = newCentroid\n",
    "        \n",
    "    # Repeat ..."
   ]
  },
  {
   "cell_type": "markdown",
   "metadata": {},
   "source": [
    "Have you recovered the centroids? Can you plot it?"
   ]
  }
 ],
 "metadata": {
  "kernelspec": {
   "display_name": "Python 3",
   "language": "python",
   "name": "python3"
  },
  "language_info": {
   "codemirror_mode": {
    "name": "ipython",
    "version": 3
   },
   "file_extension": ".py",
   "mimetype": "text/x-python",
   "name": "python",
   "nbconvert_exporter": "python",
   "pygments_lexer": "ipython3",
   "version": "3.6.4"
  }
 },
 "nbformat": 4,
 "nbformat_minor": 1
}
