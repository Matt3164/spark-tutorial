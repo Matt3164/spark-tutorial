{
 "cells": [
  {
   "cell_type": "markdown",
   "metadata": {},
   "source": [
    "# [Advanced] The Enron email dataset\n",
    "\n",
    "Find data and informations https://www.kaggle.com/wcukierski/enron-email-dataset.\n",
    "\n",
    "The dataset is big enough so that Spark is needed.\n",
    "\n",
    "Data cleaning is here extremely important.\n",
    "\n",
    "All the data cleaning steps may be not be possible inside dataframes and sometimes using RDDs can help.\n",
    "\n",
    "Thanks for that, there is `sqlContext.createDataFrame`.\n",
    "\n",
    "Good luck.\n",
    "\n",
    "The classic first step when using the Enron dataset is to create the social graph. For that, try to grab all senders and receivers of all emails and plot this connected graph.\n",
    "\n",
    "Or if you have other processing ideas, feel free to try them."
   ]
  }
 ],
 "metadata": {
  "kernelspec": {
   "display_name": "Python 3",
   "language": "python",
   "name": "python3"
  },
  "language_info": {
   "codemirror_mode": {
    "name": "ipython",
    "version": 3
   },
   "file_extension": ".py",
   "mimetype": "text/x-python",
   "name": "python",
   "nbconvert_exporter": "python",
   "pygments_lexer": "ipython3",
   "version": "3.6.4"
  }
 },
 "nbformat": 4,
 "nbformat_minor": 2
}
