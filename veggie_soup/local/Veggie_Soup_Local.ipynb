{
 "cells": [
  {
   "cell_type": "code",
   "execution_count": 50,
   "metadata": {
    "slideshow": {
     "slide_type": "slide"
    }
   },
   "outputs": [],
   "source": [
    "class Vegetable(object):\n",
    "    veg_type=None\n",
    "    def __init__(self):\n",
    "        self.is_raw=True\n",
    "        self.peels=True\n",
    "        \n",
    "class Carrot(Vegetable):\n",
    "    veg_type=\"carrot\"\n",
    "    \n",
    "class Potato(Vegetable):\n",
    "    veg_type=\"potato\"\n",
    "\n",
    "class Leek(Vegetable):\n",
    "    veg_type=\"leek\""
   ]
  },
  {
   "cell_type": "code",
   "execution_count": 44,
   "metadata": {
    "slideshow": {
     "slide_type": "slide"
    }
   },
   "outputs": [],
   "source": [
    "class PieceOfVeggie(Vegetable):\n",
    "    def __init__(self, origin_veggie=None):\n",
    "        self.origin=origin_veggie\n",
    "        self.is_raw=origin_veggie.is_raw\n",
    "        self.peels=origin_veggie.peels\n",
    "    @staticmethod\n",
    "    def from_veggie(veggie):\n",
    "        return PieceOfVeggie(origin_veggie=veggie)\n",
    "\n",
    "    \n",
    "class MashedVeggie(object):\n",
    "    def __init__(self, veggie_list):\n",
    "        self.veggie_list=veggie_list\n",
    "    @staticmethod\n",
    "    def from_veggies(veggie_list):\n",
    "        return MashedVeggie(veggie_list=veggie_list)\n",
    "    def __add__(self, other):\n",
    "        return MashedVeggie.from_veggies(veggie_list=self.veggie_list+other.veggie_list)\n",
    "    \n",
    "class Soup(object):\n",
    "    def __init__(self, mashed_veggie):\n",
    "        self.mashed_veggie = mashed_veggie\n",
    "    @staticmethod\n",
    "    def from_mashed_veggies(mash_veggie):\n",
    "        return Soup(mashed_veggie=mash_veggie)\n"
   ]
  },
  {
   "cell_type": "code",
   "execution_count": 61,
   "metadata": {
    "slideshow": {
     "slide_type": "slide"
    }
   },
   "outputs": [],
   "source": [
    "\n",
    "class Boil(object):\n",
    "    def __init__(self, time):\n",
    "        self.time=time\n",
    "        \n",
    "    def __call__(self, veggies):\n",
    "        for veggie in veggies:\n",
    "            veggie.is_raw=False\n",
    "        return veggies\n",
    "\n",
    "class Peel(object):\n",
    "    def __call__(self, veggie):\n",
    "        veggie.peels=False\n",
    "        return veggie\n",
    "\n",
    "class Cut(object):\n",
    "    def __init__(self, n):\n",
    "        self.n=n\n",
    "    def __call__(self, veggie):\n",
    "        return [PieceOfVeggie.from_veggie(veggie)]*self.n    \n",
    "\n",
    "    \n",
    "class Blend(object):\n",
    "    def __call__(self, veggies):\n",
    "        return MashedVeggie(veggies)    \n"
   ]
  },
  {
   "cell_type": "code",
   "execution_count": 59,
   "metadata": {
    "slideshow": {
     "slide_type": "slide"
    }
   },
   "outputs": [
    {
     "name": "stdout",
     "output_type": "stream",
     "text": [
      "True\n",
      "False\n",
      "True\n",
      "False\n",
      "False\n"
     ]
    },
    {
     "data": {
      "text/plain": [
       "<__main__.Soup at 0x7f83a815dc50>"
      ]
     },
     "execution_count": 59,
     "metadata": {},
     "output_type": "execute_result"
    }
   ],
   "source": [
    "c =Carrot()\n",
    "print(c.peels)\n",
    "Peel()(c)\n",
    "print(c.peels)\n",
    "print(c.is_raw)\n",
    "Boil()([c])\n",
    "print(c.is_raw)\n",
    "print(Cut(10)(c)[0].is_raw)\n",
    "Soup.from_mashed_veggies(Blend()(Cut(10)(c)) + Blend()(Cut(10)(c)))\n"
   ]
  },
  {
   "cell_type": "code",
   "execution_count": 63,
   "metadata": {
    "slideshow": {
     "slide_type": "slide"
    }
   },
   "outputs": [
    {
     "data": {
      "text/plain": [
       "<__main__.Soup at 0x7f83a81565c0>"
      ]
     },
     "execution_count": 63,
     "metadata": {},
     "output_type": "execute_result"
    }
   ],
   "source": [
    "potatos = [Potato()]*5\n",
    "carrots = [Carrot()]*5\n",
    "leeks = [Leek()]*3\n",
    "\n",
    "carrots_ready = list()\n",
    "for veggie in carrots:\n",
    "    Peel()(veggie)\n",
    "    carrots_ready.extend(Cut(10)(veggie))\n",
    "    \n",
    "potatos_ready = list()\n",
    "for veggie in carrots:\n",
    "    Peel()(veggie)\n",
    "    potatos_ready.extend(Cut(10)(veggie))\n",
    "\n",
    "leeks_ready = list()\n",
    "for veggie in carrots:\n",
    "    Peel()(veggie)\n",
    "    leeks_ready.extend(Cut(10)(veggie))\n",
    "\n",
    "Boil(25)(carrots_ready)\n",
    "Boil(20)(potatos_ready)\n",
    "Boil(15)(leeks_ready)\n",
    "\n",
    "Soup.from_mashed_veggies(\n",
    "    Blend()(carrots_ready)+Blend()(potatos_ready)+Blend()(leeks_ready)\n",
    ")    "
   ]
  }
 ],
 "metadata": {
  "celltoolbar": "Slideshow",
  "kernelspec": {
   "display_name": "Python 3",
   "language": "python",
   "name": "python3"
  },
  "language_info": {
   "codemirror_mode": {
    "name": "ipython",
    "version": 3
   },
   "file_extension": ".py",
   "mimetype": "text/x-python",
   "name": "python",
   "nbconvert_exporter": "python",
   "pygments_lexer": "ipython3",
   "version": "3.6.4"
  }
 },
 "nbformat": 4,
 "nbformat_minor": 2
}
